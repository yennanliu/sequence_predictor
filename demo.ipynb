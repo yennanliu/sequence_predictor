{
 "cells": [
  {
   "cell_type": "code",
   "execution_count": 8,
   "metadata": {},
   "outputs": [],
   "source": [
    "import datetime\n",
    "import pandas as pd "
   ]
  },
  {
   "cell_type": "code",
   "execution_count": 3,
   "metadata": {},
   "outputs": [
    {
     "name": "stdout",
     "output_type": "stream",
     "text": [
      "/Users/yennanliu/sequence_predictor/data\n"
     ]
    }
   ],
   "source": [
    "cd data/ "
   ]
  },
  {
   "cell_type": "code",
   "execution_count": 4,
   "metadata": {},
   "outputs": [
    {
     "name": "stdout",
     "output_type": "stream",
     "text": [
      "AMZN.csv                           annual-barley-yields-per-acre.csv\r\n",
      "APPLE.csv                          annual-common-stock-price-us.csv\r\n",
      "FB.csv                             quarterly-sp-500.csv\r\n",
      "SNAP.csv\r\n"
     ]
    }
   ],
   "source": [
    "ls"
   ]
  },
  {
   "cell_type": "code",
   "execution_count": 63,
   "metadata": {},
   "outputs": [],
   "source": [
    "# help function\n",
    "\n",
    "def timestamp_fix(x):\n",
    "    x_ = datetime.datetime.strptime(x, \"%d/%m/%Y\").strftime(\"%Y-%m-%d\")\n",
    "    return x_\n",
    "  \n",
    "\n",
    "def timestamp_fix_(x):\n",
    "    # fix mm/dd/yy -> yyyy-mm-dd\n",
    "    y_=x.split('/')\n",
    "    mm,dd,yy = y_[0], y_[1],y_[2]\n",
    "    yy = '20'+yy\n",
    "    y_output = yy+'/'+ mm +'/'+ dd\n",
    "    return y_output"
   ]
  },
  {
   "cell_type": "code",
   "execution_count": null,
   "metadata": {},
   "outputs": [],
   "source": []
  },
  {
   "cell_type": "code",
   "execution_count": 71,
   "metadata": {},
   "outputs": [
    {
     "data": {
      "text/plain": [
       "'\\nd1 = \"22.05.15\"\\ny=\\'04/12/18\\'\\n#datetime.datetime.strptime(d1,\\'%d.%m.%Y\\').strftime(\\'%Y-%d-%m\\')\\ny_=y.split(\\'/\\')\\ndd,mm,yy = y_[0], y_[1],y_[2]\\nyy = \\'20\\'+yy\\ny_output = yy+\\'/\\'+ mm +\\'/\\'+ dd\\ny_output\\n'"
      ]
     },
     "execution_count": 71,
     "metadata": {},
     "output_type": "execute_result"
    }
   ],
   "source": [
    "\"\"\"\n",
    "d1 = \"22.05.15\"\n",
    "y='04/12/18'\n",
    "#datetime.datetime.strptime(d1,'%d.%m.%Y').strftime('%Y-%d-%m')\n",
    "y_=y.split('/')\n",
    "dd,mm,yy = y_[0], y_[1],y_[2]\n",
    "yy = '20'+yy\n",
    "y_output = yy+'/'+ mm +'/'+ dd\n",
    "y_output\n",
    "\"\"\""
   ]
  },
  {
   "cell_type": "code",
   "execution_count": 83,
   "metadata": {},
   "outputs": [],
   "source": [
    "df_SNAP= pd.read_csv('SNAP.csv')"
   ]
  },
  {
   "cell_type": "code",
   "execution_count": 72,
   "metadata": {},
   "outputs": [],
   "source": [
    "# example \n",
    "#datetime.datetime.strptime(\"04/12/2018\", \"%d/%m/%Y\").strftime(\"%Y-%m-%d\")"
   ]
  },
  {
   "cell_type": "code",
   "execution_count": 84,
   "metadata": {},
   "outputs": [],
   "source": [
    "df_SNAP['Date'] = df_SNAP.Date.map(timestamp_fix_)"
   ]
  },
  {
   "cell_type": "code",
   "execution_count": 85,
   "metadata": {},
   "outputs": [],
   "source": [
    "df_SNAP['Date'] = pd.to_datetime(df_SNAP['Date'])"
   ]
  },
  {
   "cell_type": "code",
   "execution_count": 73,
   "metadata": {},
   "outputs": [],
   "source": [
    "#df_apple.Date.ix[0]"
   ]
  },
  {
   "cell_type": "code",
   "execution_count": 82,
   "metadata": {},
   "outputs": [],
   "source": [
    "df_SNAP.to_csv('FB.csv')"
   ]
  }
 ],
 "metadata": {
  "kernelspec": {
   "display_name": "Environment (conda_ds_dash)",
   "language": "python",
   "name": "conda_ds_dash"
  },
  "language_info": {
   "codemirror_mode": {
    "name": "ipython",
    "version": 3
   },
   "file_extension": ".py",
   "mimetype": "text/x-python",
   "name": "python",
   "nbconvert_exporter": "python",
   "pygments_lexer": "ipython3",
   "version": "3.5.4"
  }
 },
 "nbformat": 4,
 "nbformat_minor": 2
}
