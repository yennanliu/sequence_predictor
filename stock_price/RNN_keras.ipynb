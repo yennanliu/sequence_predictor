{
 "cells": [
  {
   "cell_type": "markdown",
   "metadata": {},
   "source": [
    "# 0) Data Load/Fix "
   ]
  },
  {
   "cell_type": "code",
   "execution_count": 1,
   "metadata": {},
   "outputs": [],
   "source": [
    "import matplotlib.pylab as plt\n",
    "import datetime\n",
    "import pandas as pd \n",
    "import numpy as np "
   ]
  },
  {
   "cell_type": "code",
   "execution_count": 2,
   "metadata": {},
   "outputs": [
    {
     "name": "stdout",
     "output_type": "stream",
     "text": [
      "/Users/yennanliu\n"
     ]
    }
   ],
   "source": [
    "cd"
   ]
  },
  {
   "cell_type": "code",
   "execution_count": 3,
   "metadata": {},
   "outputs": [
    {
     "name": "stdout",
     "output_type": "stream",
     "text": [
      "\u001b[1m\u001b[34m17media_analytics\u001b[m\u001b[m/          \u001b[1m\u001b[34mdeep_electro\u001b[m\u001b[m/\r\n",
      "\u001b[1m\u001b[34mApplications\u001b[m\u001b[m/               deep_electro_test.ipynb\r\n",
      "\u001b[1m\u001b[34mDesktop\u001b[m\u001b[m/                    \u001b[1m\u001b[34mdocker_file\u001b[m\u001b[m/\r\n",
      "\u001b[1m\u001b[34mDocuments\u001b[m\u001b[m/                  \u001b[1m\u001b[34meclipse\u001b[m\u001b[m/\r\n",
      "\u001b[1m\u001b[34mDownloads\u001b[m\u001b[m/                  \u001b[1m\u001b[34mgogovan-analytics\u001b[m\u001b[m/\r\n",
      "\u001b[1m\u001b[34mDropbox\u001b[m\u001b[m/                    \u001b[1m\u001b[34miCloud Drive (Archive)\u001b[m\u001b[m/\r\n",
      "\u001b[1m\u001b[34mGo\u001b[m\u001b[m/                         \u001b[1m\u001b[34mmodels\u001b[m\u001b[m/\r\n",
      "\u001b[1m\u001b[34mKKBox_Music_Recommendation\u001b[m\u001b[m/ \u001b[1m\u001b[34mmovie_recommendation\u001b[m\u001b[m/\r\n",
      "\u001b[1m\u001b[34mKaggle.com_mini_project\u001b[m\u001b[m/    \u001b[1m\u001b[34mnode_modules\u001b[m\u001b[m/\r\n",
      "\u001b[1m\u001b[34mLibrary\u001b[m\u001b[m/                    \u001b[1m\u001b[34mnotebook\u001b[m\u001b[m/\r\n",
      "\u001b[1m\u001b[34mMovies\u001b[m\u001b[m/                     notebook.textClipping\r\n",
      "\u001b[1m\u001b[34mMusic\u001b[m\u001b[m/                      \u001b[1m\u001b[34msequence_predictor\u001b[m\u001b[m/\r\n",
      "\u001b[1m\u001b[34mNYC_Taxi_Trip_Duration\u001b[m\u001b[m/     \u001b[1m\u001b[34msong_recommender\u001b[m\u001b[m/\r\n",
      "\u001b[1m\u001b[34mPictures\u001b[m\u001b[m/                   \u001b[1m\u001b[34mspark\u001b[m\u001b[m/\r\n",
      "\u001b[1m\u001b[34mPublic\u001b[m\u001b[m/                     \u001b[1m\u001b[34mspark-2.3.0-bin-hadoop2.7\u001b[m\u001b[m/\r\n",
      "\u001b[1m\u001b[34mSGTaxiMap\u001b[m\u001b[m/                  \u001b[1m\u001b[34muk_data_team\u001b[m\u001b[m/\r\n",
      "\u001b[1m\u001b[34manaconda3\u001b[m\u001b[m/                  \u001b[1m\u001b[34mutility_JS\u001b[m\u001b[m/\r\n",
      "\u001b[1m\u001b[34manalysis\u001b[m\u001b[m/                   \u001b[1m\u001b[34mutility_Java\u001b[m\u001b[m/\r\n",
      "\u001b[1m\u001b[34mapi\u001b[m\u001b[m/                        \u001b[1m\u001b[34mutility_python\u001b[m\u001b[m/\r\n",
      "\u001b[1m\u001b[34mbin\u001b[m\u001b[m/                        \u001b[1m\u001b[34mutility_shell\u001b[m\u001b[m/\r\n",
      "\u001b[1m\u001b[34mbrussels-ops-tool\u001b[m\u001b[m/          \u001b[1m\u001b[34mweb_development\u001b[m\u001b[m/\r\n",
      "\u001b[1m\u001b[34mbrussels-reporting\u001b[m\u001b[m/         \u001b[1m\u001b[34mweb_scraping\u001b[m\u001b[m/\r\n",
      "\u001b[1m\u001b[34mbrussels-web-scraping\u001b[m\u001b[m/      \u001b[1m\u001b[34mxgboost\u001b[m\u001b[m/\r\n",
      "\u001b[1m\u001b[34mdata_science_repo\u001b[m\u001b[m/          \u001b[1m\u001b[34myennanliu.github.io\u001b[m\u001b[m/\r\n"
     ]
    }
   ],
   "source": [
    "ls "
   ]
  },
  {
   "cell_type": "code",
   "execution_count": 4,
   "metadata": {},
   "outputs": [
    {
     "name": "stdout",
     "output_type": "stream",
     "text": [
      "/Users/yennanliu/sequence_predictor/data\n"
     ]
    }
   ],
   "source": [
    "cd sequence_predictor/data"
   ]
  },
  {
   "cell_type": "code",
   "execution_count": 5,
   "metadata": {},
   "outputs": [],
   "source": [
    "df_fb = pd.read_csv('FB.csv')\n",
    "df_APPLE = pd.read_csv('APPLE.csv')"
   ]
  },
  {
   "cell_type": "code",
   "execution_count": 6,
   "metadata": {},
   "outputs": [
    {
     "data": {
      "text/html": [
       "<div>\n",
       "<style scoped>\n",
       "    .dataframe tbody tr th:only-of-type {\n",
       "        vertical-align: middle;\n",
       "    }\n",
       "\n",
       "    .dataframe tbody tr th {\n",
       "        vertical-align: top;\n",
       "    }\n",
       "\n",
       "    .dataframe thead th {\n",
       "        text-align: right;\n",
       "    }\n",
       "</style>\n",
       "<table border=\"1\" class=\"dataframe\">\n",
       "  <thead>\n",
       "    <tr style=\"text-align: right;\">\n",
       "      <th></th>\n",
       "      <th>Unnamed: 0</th>\n",
       "      <th>Date</th>\n",
       "      <th>Open</th>\n",
       "      <th>High</th>\n",
       "      <th>Low</th>\n",
       "      <th>Close</th>\n",
       "      <th>Volume</th>\n",
       "    </tr>\n",
       "  </thead>\n",
       "  <tbody>\n",
       "    <tr>\n",
       "      <th>0</th>\n",
       "      <td>0</td>\n",
       "      <td>2018-04-12</td>\n",
       "      <td>166.98</td>\n",
       "      <td>167.45</td>\n",
       "      <td>163.10</td>\n",
       "      <td>163.87</td>\n",
       "      <td>38262956</td>\n",
       "    </tr>\n",
       "    <tr>\n",
       "      <th>1</th>\n",
       "      <td>1</td>\n",
       "      <td>2018-04-11</td>\n",
       "      <td>165.36</td>\n",
       "      <td>168.65</td>\n",
       "      <td>163.25</td>\n",
       "      <td>166.32</td>\n",
       "      <td>56144633</td>\n",
       "    </tr>\n",
       "    <tr>\n",
       "      <th>2</th>\n",
       "      <td>2</td>\n",
       "      <td>2018-04-10</td>\n",
       "      <td>157.93</td>\n",
       "      <td>165.98</td>\n",
       "      <td>157.01</td>\n",
       "      <td>165.04</td>\n",
       "      <td>58947041</td>\n",
       "    </tr>\n",
       "  </tbody>\n",
       "</table>\n",
       "</div>"
      ],
      "text/plain": [
       "   Unnamed: 0        Date    Open    High     Low   Close    Volume\n",
       "0           0  2018-04-12  166.98  167.45  163.10  163.87  38262956\n",
       "1           1  2018-04-11  165.36  168.65  163.25  166.32  56144633\n",
       "2           2  2018-04-10  157.93  165.98  157.01  165.04  58947041"
      ]
     },
     "execution_count": 6,
     "metadata": {},
     "output_type": "execute_result"
    }
   ],
   "source": [
    "df_fb.head(3)"
   ]
  },
  {
   "cell_type": "code",
   "execution_count": 7,
   "metadata": {},
   "outputs": [
    {
     "data": {
      "text/plain": [
       "Index(['Unnamed: 0', 'Date', ' Open', ' High', ' Low', ' Close', ' Volume'], dtype='object')"
      ]
     },
     "execution_count": 7,
     "metadata": {},
     "output_type": "execute_result"
    }
   ],
   "source": [
    "df_APPLE.columns"
   ]
  },
  {
   "cell_type": "code",
   "execution_count": 8,
   "metadata": {},
   "outputs": [],
   "source": [
    "def col_fix(df):\n",
    "    df = df.drop('Unnamed: 0', axis=1) \n",
    "    print (df.columns)\n",
    "    df.columns = ['Date', 'Open', 'High', 'Low', 'Close', 'Volume']\n",
    "    print (df.head())\n",
    "    return df "
   ]
  },
  {
   "cell_type": "code",
   "execution_count": 9,
   "metadata": {},
   "outputs": [
    {
     "name": "stdout",
     "output_type": "stream",
     "text": [
      "Index(['Date', ' Open', ' High', ' Low', ' Close', ' Volume'], dtype='object')\n",
      "         Date    Open      High      Low   Close    Volume\n",
      "0  2018-04-12  173.41  175.0000  173.040  174.14  22889285\n",
      "1  2018-04-11  172.23  173.9232  171.700  172.44  22431640\n",
      "2  2018-04-10  173.00  174.0000  171.530  173.25  28614241\n",
      "3  2018-04-09  169.88  173.0900  169.845  170.05  29017718\n",
      "4  2018-04-06  170.97  172.4800  168.200  168.38  35005290\n"
     ]
    }
   ],
   "source": [
    "df_APPLE_ = col_fix(df_APPLE)"
   ]
  },
  {
   "cell_type": "code",
   "execution_count": 10,
   "metadata": {},
   "outputs": [
    {
     "data": {
      "text/plain": [
       "Index(['Date', 'Open', 'High', 'Low', 'Close', 'Volume'], dtype='object')"
      ]
     },
     "execution_count": 10,
     "metadata": {},
     "output_type": "execute_result"
    }
   ],
   "source": [
    "df_APPLE_.columns"
   ]
  },
  {
   "cell_type": "code",
   "execution_count": null,
   "metadata": {},
   "outputs": [],
   "source": []
  },
  {
   "cell_type": "markdown",
   "metadata": {},
   "source": [
    "# 1) RNN "
   ]
  },
  {
   "cell_type": "code",
   "execution_count": 11,
   "metadata": {},
   "outputs": [
    {
     "name": "stderr",
     "output_type": "stream",
     "text": [
      "Using TensorFlow backend.\n",
      "/Users/yennanliu/anaconda3/envs/ds_dash/lib/python3.5/importlib/_bootstrap.py:222: RuntimeWarning: compiletime version 3.6 of module 'tensorflow.python.framework.fast_tensor_util' does not match runtime version 3.5\n",
      "  return f(*args, **kwds)\n"
     ]
    }
   ],
   "source": [
    "\n",
    "from keras.models import Sequential\n",
    "from keras.layers.core import Dense, Dropout, Activation, Flatten\n",
    "from keras.layers.recurrent import LSTM, GRU\n",
    "from keras.layers import Convolution1D, MaxPooling1D\n",
    "from keras.callbacks import Callback\n",
    "\n",
    "\n",
    "\n",
    "\n",
    "def regression_model(df,col_name):\n",
    "\t# fitting with scaled data \n",
    "\tmodel = Sequential()\n",
    "\tmodel.add(Dense(500, input_shape = (1, )))\n",
    "\tmodel.add(Activation('relu'))\n",
    "\tmodel.add(Dropout(0.25))\n",
    "\tmodel.add(Dense(250))\n",
    "\tmodel.add(Activation('relu'))\n",
    "\tmodel.add(Dense(1))\n",
    "\tmodel.add(Activation('softmax'))\n",
    "\tmodel.compile(optimizer='adam', loss='mse')\n",
    "# --------------\n",
    "\t### only get col_name as input / target data values \n",
    "\tdf_ = df.copy()\n",
    "\tx__ = df_[col_name]\n",
    "\tY_train = df_[col_name]\n",
    "\tparams = []\n",
    "\tfor xt in x__: # taking training data from unscaled array\n",
    "\t\txt = np.array(xt)\n",
    "\t\t#print (xt)\n",
    "\t\tmean_ = xt.mean()\n",
    "\t\tscale_ = x__.std()\n",
    "\t\tparams.append([mean_, scale_])\n",
    "\n",
    "\tpredicted = model.predict(x__)\n",
    "\tnew_predicted = []\n",
    "\n",
    "\t# restoring data\n",
    "\tfor pred, par in zip(predicted, params):\n",
    "\t\ta = pred*par[1]\n",
    "\t\ta += par[0]\n",
    "\t\tnew_predicted.append(a)\n",
    "\n",
    "# --------------\n",
    "\tnew_predicted_ = np.array(new_predicted).flatten()\n",
    "\tnew_predicted_ = pd.DataFrame(new_predicted_, dtype='str')\n",
    "\toutput=pd.DataFrame()\n",
    "\toutput['actual'] =Y_train\n",
    "\toutput['predict'] =new_predicted_\n",
    "\toutput['predict']=output['predict'].astype(float)\n",
    "\tprint (output)\n",
    "\treturn output \n",
    "\n",
    "\n",
    "\n",
    "\n",
    "\n",
    "def RNN_model_2(df,col_name):\n",
    "\t# fitting with scaled data \n",
    "\tmodel = Sequential()\n",
    "\tmodel.add(Dense(500, input_shape = (1, )))\n",
    "\tmodel.add(Activation('relu'))\n",
    "\tmodel.add(Dropout(0.25))\n",
    "\tmodel.add(Dense(250))\n",
    "\tmodel.add(Activation('relu'))\n",
    "\tmodel.add(Dense(1))\n",
    "\tmodel.add(Activation('relu'))\n",
    "\tmodel.add(Dense(250, input_shape = (1, )))\n",
    "\tmodel.add(Activation('softmax'))\n",
    "\t#model.add(Dropout(0.25))\n",
    "\tmodel.compile(optimizer='adam', loss='mse')\n",
    "# --------------\n",
    "\t### only get col_name as input / target data values \n",
    "\tdf_ = df.copy()\n",
    "\tx__ = df_[col_name]\n",
    "\tY_train = df_[col_name]\n",
    "\tparams = []\n",
    "\tfor xt in x__: # taking training data from unscaled array\n",
    "\t\txt = np.array(xt)\n",
    "\t\t#print (xt)\n",
    "\t\tmean_ = xt.mean()\n",
    "\t\tscale_ = x__.std()\n",
    "\t\tparams.append([mean_, scale_])\n",
    "\n",
    "\tpredicted = model.predict(x__)\n",
    "\tnew_predicted = []\n",
    "\n",
    "\t# restoring data\n",
    "\tfor pred, par in zip(predicted, params):\n",
    "\t\ta = pred*par[1]\n",
    "\t\ta += par[0]\n",
    "\t\tnew_predicted.append(a)\n",
    "\n",
    "# --------------\n",
    "\tnew_predicted_ = np.array(new_predicted).flatten()\n",
    "\tnew_predicted_ = pd.DataFrame(new_predicted_, dtype='str')\n",
    "\toutput=pd.DataFrame()\n",
    "\toutput['actual'] =Y_train\n",
    "\toutput['predict'] =new_predicted_\n",
    "\toutput['predict']=output['predict'].astype(float)\n",
    "\t# print model architecture\n",
    "\tprint (model.summary())\n",
    "\t# print prediction  \n",
    "\tprint (output)\n",
    "\treturn output \n"
   ]
  },
  {
   "cell_type": "code",
   "execution_count": 12,
   "metadata": {},
   "outputs": [
    {
     "data": {
      "text/plain": [
       "<function __main__.regression_model>"
      ]
     },
     "execution_count": 12,
     "metadata": {},
     "output_type": "execute_result"
    }
   ],
   "source": [
    "regression_model"
   ]
  },
  {
   "cell_type": "code",
   "execution_count": 13,
   "metadata": {
    "scrolled": true
   },
   "outputs": [
    {
     "name": "stdout",
     "output_type": "stream",
     "text": [
      "        actual     predict\n",
      "0     173.4100  222.576320\n",
      "1     172.2300  221.396320\n",
      "2     173.0000  222.166320\n",
      "3     169.8800  219.046330\n",
      "4     170.9700  220.136320\n",
      "5     172.5800  221.746320\n",
      "6     164.8800  214.046330\n",
      "7     167.6400  216.806320\n",
      "8     166.6400  215.806320\n",
      "9     167.8050  216.971310\n",
      "10    167.2500  216.416320\n",
      "11    173.6800  222.846310\n",
      "12    168.0700  217.236330\n",
      "13    168.3900  217.556320\n",
      "14    170.0000  219.166320\n",
      "15    175.0400  224.206310\n",
      "16    175.2400  224.406330\n",
      "17    177.3200  226.486330\n",
      "18    178.6500  227.816310\n",
      "19    178.5000  227.666320\n",
      "20    180.3200  229.486330\n",
      "21    182.5900  231.756320\n",
      "22    180.2900  229.456310\n",
      "23    177.9600  227.126330\n",
      "24    175.4800  224.646320\n",
      "25    174.9400  224.106320\n",
      "26    177.9100  227.076320\n",
      "27    175.2100  224.376330\n",
      "28    172.8000  221.966320\n",
      "29    178.5400  227.706310\n",
      "...        ...         ...\n",
      "4036    1.7193   50.885616\n",
      "4037    1.7471   50.913418\n",
      "4038    1.6907   50.857018\n",
      "4039    1.6764   50.842716\n",
      "4040    1.6757   50.842020\n",
      "4041    1.6679   50.834217\n",
      "4042    1.7207   50.887016\n",
      "4043    1.7336   50.899918\n",
      "4044    1.7800   50.946316\n",
      "4045    1.7750   50.941320\n",
      "4046    1.7671   50.933420\n",
      "4047    1.7821   50.948418\n",
      "4048    1.7450   50.911316\n",
      "4049    1.7493   50.915620\n",
      "4050    1.7657   50.932020\n",
      "4051    1.7900   50.956318\n",
      "4052    1.7614   50.927715\n",
      "4053    1.7414   50.907720\n",
      "4054    1.7193   50.885616\n",
      "4055    1.6807   50.847015\n",
      "4056    1.7350   50.901318\n",
      "4057    1.6750   50.841316\n",
      "4058    1.5500   50.716316\n",
      "4059    1.5686   50.734917\n",
      "4060    1.6907   50.857018\n",
      "4061    1.7007   50.867016\n",
      "4062    1.6243   50.790620\n",
      "4063    1.5357   50.702020\n",
      "4064    1.6521   50.818417\n",
      "4065    1.6157   50.782017\n",
      "\n",
      "[4066 rows x 2 columns]\n"
     ]
    }
   ],
   "source": [
    "output = regression_model(df_APPLE_,'Open')"
   ]
  },
  {
   "cell_type": "code",
   "execution_count": 14,
   "metadata": {},
   "outputs": [
    {
     "data": {
      "text/plain": [
       "<matplotlib.axes._subplots.AxesSubplot at 0x11f0e6400>"
      ]
     },
     "execution_count": 14,
     "metadata": {},
     "output_type": "execute_result"
    },
    {
     "data": {
      "image/png": "[encoded data removed]",
      "text/plain": [
       "<matplotlib.figure.Figure at 0x11eff14e0>"
      ]
     },
     "metadata": {},
     "output_type": "display_data"
    }
   ],
   "source": [
    "output.plot()"
   ]
  },
  {
   "cell_type": "code",
   "execution_count": 15,
   "metadata": {},
   "outputs": [
    {
     "data": {
      "text/html": [
       "<div>\n",
       "<style scoped>\n",
       "    .dataframe tbody tr th:only-of-type {\n",
       "        vertical-align: middle;\n",
       "    }\n",
       "\n",
       "    .dataframe tbody tr th {\n",
       "        vertical-align: top;\n",
       "    }\n",
       "\n",
       "    .dataframe thead th {\n",
       "        text-align: right;\n",
       "    }\n",
       "</style>\n",
       "<table border=\"1\" class=\"dataframe\">\n",
       "  <thead>\n",
       "    <tr style=\"text-align: right;\">\n",
       "      <th></th>\n",
       "      <th>actual</th>\n",
       "      <th>predict</th>\n",
       "    </tr>\n",
       "  </thead>\n",
       "  <tbody>\n",
       "    <tr>\n",
       "      <th>0</th>\n",
       "      <td>173.4100</td>\n",
       "      <td>222.576320</td>\n",
       "    </tr>\n",
       "    <tr>\n",
       "      <th>1</th>\n",
       "      <td>172.2300</td>\n",
       "      <td>221.396320</td>\n",
       "    </tr>\n",
       "    <tr>\n",
       "      <th>2</th>\n",
       "      <td>173.0000</td>\n",
       "      <td>222.166320</td>\n",
       "    </tr>\n",
       "    <tr>\n",
       "      <th>3</th>\n",
       "      <td>169.8800</td>\n",
       "      <td>219.046330</td>\n",
       "    </tr>\n",
       "    <tr>\n",
       "      <th>4</th>\n",
       "      <td>170.9700</td>\n",
       "      <td>220.136320</td>\n",
       "    </tr>\n",
       "    <tr>\n",
       "      <th>5</th>\n",
       "      <td>172.5800</td>\n",
       "      <td>221.746320</td>\n",
       "    </tr>\n",
       "    <tr>\n",
       "      <th>6</th>\n",
       "      <td>164.8800</td>\n",
       "      <td>214.046330</td>\n",
       "    </tr>\n",
       "    <tr>\n",
       "      <th>7</th>\n",
       "      <td>167.6400</td>\n",
       "      <td>216.806320</td>\n",
       "    </tr>\n",
       "    <tr>\n",
       "      <th>8</th>\n",
       "      <td>166.6400</td>\n",
       "      <td>215.806320</td>\n",
       "    </tr>\n",
       "    <tr>\n",
       "      <th>9</th>\n",
       "      <td>167.8050</td>\n",
       "      <td>216.971310</td>\n",
       "    </tr>\n",
       "    <tr>\n",
       "      <th>10</th>\n",
       "      <td>167.2500</td>\n",
       "      <td>216.416320</td>\n",
       "    </tr>\n",
       "    <tr>\n",
       "      <th>11</th>\n",
       "      <td>173.6800</td>\n",
       "      <td>222.846310</td>\n",
       "    </tr>\n",
       "    <tr>\n",
       "      <th>12</th>\n",
       "      <td>168.0700</td>\n",
       "      <td>217.236330</td>\n",
       "    </tr>\n",
       "    <tr>\n",
       "      <th>13</th>\n",
       "      <td>168.3900</td>\n",
       "      <td>217.556320</td>\n",
       "    </tr>\n",
       "    <tr>\n",
       "      <th>14</th>\n",
       "      <td>170.0000</td>\n",
       "      <td>219.166320</td>\n",
       "    </tr>\n",
       "    <tr>\n",
       "      <th>15</th>\n",
       "      <td>175.0400</td>\n",
       "      <td>224.206310</td>\n",
       "    </tr>\n",
       "    <tr>\n",
       "      <th>16</th>\n",
       "      <td>175.2400</td>\n",
       "      <td>224.406330</td>\n",
       "    </tr>\n",
       "    <tr>\n",
       "      <th>17</th>\n",
       "      <td>177.3200</td>\n",
       "      <td>226.486330</td>\n",
       "    </tr>\n",
       "    <tr>\n",
       "      <th>18</th>\n",
       "      <td>178.6500</td>\n",
       "      <td>227.816310</td>\n",
       "    </tr>\n",
       "    <tr>\n",
       "      <th>19</th>\n",
       "      <td>178.5000</td>\n",
       "      <td>227.666320</td>\n",
       "    </tr>\n",
       "    <tr>\n",
       "      <th>20</th>\n",
       "      <td>180.3200</td>\n",
       "      <td>229.486330</td>\n",
       "    </tr>\n",
       "    <tr>\n",
       "      <th>21</th>\n",
       "      <td>182.5900</td>\n",
       "      <td>231.756320</td>\n",
       "    </tr>\n",
       "    <tr>\n",
       "      <th>22</th>\n",
       "      <td>180.2900</td>\n",
       "      <td>229.456310</td>\n",
       "    </tr>\n",
       "    <tr>\n",
       "      <th>23</th>\n",
       "      <td>177.9600</td>\n",
       "      <td>227.126330</td>\n",
       "    </tr>\n",
       "    <tr>\n",
       "      <th>24</th>\n",
       "      <td>175.4800</td>\n",
       "      <td>224.646320</td>\n",
       "    </tr>\n",
       "    <tr>\n",
       "      <th>25</th>\n",
       "      <td>174.9400</td>\n",
       "      <td>224.106320</td>\n",
       "    </tr>\n",
       "    <tr>\n",
       "      <th>26</th>\n",
       "      <td>177.9100</td>\n",
       "      <td>227.076320</td>\n",
       "    </tr>\n",
       "    <tr>\n",
       "      <th>27</th>\n",
       "      <td>175.2100</td>\n",
       "      <td>224.376330</td>\n",
       "    </tr>\n",
       "    <tr>\n",
       "      <th>28</th>\n",
       "      <td>172.8000</td>\n",
       "      <td>221.966320</td>\n",
       "    </tr>\n",
       "    <tr>\n",
       "      <th>29</th>\n",
       "      <td>178.5400</td>\n",
       "      <td>227.706310</td>\n",
       "    </tr>\n",
       "    <tr>\n",
       "      <th>...</th>\n",
       "      <td>...</td>\n",
       "      <td>...</td>\n",
       "    </tr>\n",
       "    <tr>\n",
       "      <th>4036</th>\n",
       "      <td>1.7193</td>\n",
       "      <td>50.885616</td>\n",
       "    </tr>\n",
       "    <tr>\n",
       "      <th>4037</th>\n",
       "      <td>1.7471</td>\n",
       "      <td>50.913418</td>\n",
       "    </tr>\n",
       "    <tr>\n",
       "      <th>4038</th>\n",
       "      <td>1.6907</td>\n",
       "      <td>50.857018</td>\n",
       "    </tr>\n",
       "    <tr>\n",
       "      <th>4039</th>\n",
       "      <td>1.6764</td>\n",
       "      <td>50.842716</td>\n",
       "    </tr>\n",
       "    <tr>\n",
       "      <th>4040</th>\n",
       "      <td>1.6757</td>\n",
       "      <td>50.842020</td>\n",
       "    </tr>\n",
       "    <tr>\n",
       "      <th>4041</th>\n",
       "      <td>1.6679</td>\n",
       "      <td>50.834217</td>\n",
       "    </tr>\n",
       "    <tr>\n",
       "      <th>4042</th>\n",
       "      <td>1.7207</td>\n",
       "      <td>50.887016</td>\n",
       "    </tr>\n",
       "    <tr>\n",
       "      <th>4043</th>\n",
       "      <td>1.7336</td>\n",
       "      <td>50.899918</td>\n",
       "    </tr>\n",
       "    <tr>\n",
       "      <th>4044</th>\n",
       "      <td>1.7800</td>\n",
       "      <td>50.946316</td>\n",
       "    </tr>\n",
       "    <tr>\n",
       "      <th>4045</th>\n",
       "      <td>1.7750</td>\n",
       "      <td>50.941320</td>\n",
       "    </tr>\n",
       "    <tr>\n",
       "      <th>4046</th>\n",
       "      <td>1.7671</td>\n",
       "      <td>50.933420</td>\n",
       "    </tr>\n",
       "    <tr>\n",
       "      <th>4047</th>\n",
       "      <td>1.7821</td>\n",
       "      <td>50.948418</td>\n",
       "    </tr>\n",
       "    <tr>\n",
       "      <th>4048</th>\n",
       "      <td>1.7450</td>\n",
       "      <td>50.911316</td>\n",
       "    </tr>\n",
       "    <tr>\n",
       "      <th>4049</th>\n",
       "      <td>1.7493</td>\n",
       "      <td>50.915620</td>\n",
       "    </tr>\n",
       "    <tr>\n",
       "      <th>4050</th>\n",
       "      <td>1.7657</td>\n",
       "      <td>50.932020</td>\n",
       "    </tr>\n",
       "    <tr>\n",
       "      <th>4051</th>\n",
       "      <td>1.7900</td>\n",
       "      <td>50.956318</td>\n",
       "    </tr>\n",
       "    <tr>\n",
       "      <th>4052</th>\n",
       "      <td>1.7614</td>\n",
       "      <td>50.927715</td>\n",
       "    </tr>\n",
       "    <tr>\n",
       "      <th>4053</th>\n",
       "      <td>1.7414</td>\n",
       "      <td>50.907720</td>\n",
       "    </tr>\n",
       "    <tr>\n",
       "      <th>4054</th>\n",
       "      <td>1.7193</td>\n",
       "      <td>50.885616</td>\n",
       "    </tr>\n",
       "    <tr>\n",
       "      <th>4055</th>\n",
       "      <td>1.6807</td>\n",
       "      <td>50.847015</td>\n",
       "    </tr>\n",
       "    <tr>\n",
       "      <th>4056</th>\n",
       "      <td>1.7350</td>\n",
       "      <td>50.901318</td>\n",
       "    </tr>\n",
       "    <tr>\n",
       "      <th>4057</th>\n",
       "      <td>1.6750</td>\n",
       "      <td>50.841316</td>\n",
       "    </tr>\n",
       "    <tr>\n",
       "      <th>4058</th>\n",
       "      <td>1.5500</td>\n",
       "      <td>50.716316</td>\n",
       "    </tr>\n",
       "    <tr>\n",
       "      <th>4059</th>\n",
       "      <td>1.5686</td>\n",
       "      <td>50.734917</td>\n",
       "    </tr>\n",
       "    <tr>\n",
       "      <th>4060</th>\n",
       "      <td>1.6907</td>\n",
       "      <td>50.857018</td>\n",
       "    </tr>\n",
       "    <tr>\n",
       "      <th>4061</th>\n",
       "      <td>1.7007</td>\n",
       "      <td>50.867016</td>\n",
       "    </tr>\n",
       "    <tr>\n",
       "      <th>4062</th>\n",
       "      <td>1.6243</td>\n",
       "      <td>50.790620</td>\n",
       "    </tr>\n",
       "    <tr>\n",
       "      <th>4063</th>\n",
       "      <td>1.5357</td>\n",
       "      <td>50.702020</td>\n",
       "    </tr>\n",
       "    <tr>\n",
       "      <th>4064</th>\n",
       "      <td>1.6521</td>\n",
       "      <td>50.818417</td>\n",
       "    </tr>\n",
       "    <tr>\n",
       "      <th>4065</th>\n",
       "      <td>1.6157</td>\n",
       "      <td>50.782017</td>\n",
       "    </tr>\n",
       "  </tbody>\n",
       "</table>\n",
       "<p>4066 rows × 2 columns</p>\n",
       "</div>"
      ],
      "text/plain": [
       "        actual     predict\n",
       "0     173.4100  222.576320\n",
       "1     172.2300  221.396320\n",
       "2     173.0000  222.166320\n",
       "3     169.8800  219.046330\n",
       "4     170.9700  220.136320\n",
       "5     172.5800  221.746320\n",
       "6     164.8800  214.046330\n",
       "7     167.6400  216.806320\n",
       "8     166.6400  215.806320\n",
       "9     167.8050  216.971310\n",
       "10    167.2500  216.416320\n",
       "11    173.6800  222.846310\n",
       "12    168.0700  217.236330\n",
       "13    168.3900  217.556320\n",
       "14    170.0000  219.166320\n",
       "15    175.0400  224.206310\n",
       "16    175.2400  224.406330\n",
       "17    177.3200  226.486330\n",
       "18    178.6500  227.816310\n",
       "19    178.5000  227.666320\n",
       "20    180.3200  229.486330\n",
       "21    182.5900  231.756320\n",
       "22    180.2900  229.456310\n",
       "23    177.9600  227.126330\n",
       "24    175.4800  224.646320\n",
       "25    174.9400  224.106320\n",
       "26    177.9100  227.076320\n",
       "27    175.2100  224.376330\n",
       "28    172.8000  221.966320\n",
       "29    178.5400  227.706310\n",
       "...        ...         ...\n",
       "4036    1.7193   50.885616\n",
       "4037    1.7471   50.913418\n",
       "4038    1.6907   50.857018\n",
       "4039    1.6764   50.842716\n",
       "4040    1.6757   50.842020\n",
       "4041    1.6679   50.834217\n",
       "4042    1.7207   50.887016\n",
       "4043    1.7336   50.899918\n",
       "4044    1.7800   50.946316\n",
       "4045    1.7750   50.941320\n",
       "4046    1.7671   50.933420\n",
       "4047    1.7821   50.948418\n",
       "4048    1.7450   50.911316\n",
       "4049    1.7493   50.915620\n",
       "4050    1.7657   50.932020\n",
       "4051    1.7900   50.956318\n",
       "4052    1.7614   50.927715\n",
       "4053    1.7414   50.907720\n",
       "4054    1.7193   50.885616\n",
       "4055    1.6807   50.847015\n",
       "4056    1.7350   50.901318\n",
       "4057    1.6750   50.841316\n",
       "4058    1.5500   50.716316\n",
       "4059    1.5686   50.734917\n",
       "4060    1.6907   50.857018\n",
       "4061    1.7007   50.867016\n",
       "4062    1.6243   50.790620\n",
       "4063    1.5357   50.702020\n",
       "4064    1.6521   50.818417\n",
       "4065    1.6157   50.782017\n",
       "\n",
       "[4066 rows x 2 columns]"
      ]
     },
     "execution_count": 15,
     "metadata": {},
     "output_type": "execute_result"
    }
   ],
   "source": [
    "output"
   ]
  },
  {
   "cell_type": "code",
   "execution_count": 16,
   "metadata": {},
   "outputs": [
    {
     "data": {
      "text/html": [
       "<div>\n",
       "<style scoped>\n",
       "    .dataframe tbody tr th:only-of-type {\n",
       "        vertical-align: middle;\n",
       "    }\n",
       "\n",
       "    .dataframe tbody tr th {\n",
       "        vertical-align: top;\n",
       "    }\n",
       "\n",
       "    .dataframe thead th {\n",
       "        text-align: right;\n",
       "    }\n",
       "</style>\n",
       "<table border=\"1\" class=\"dataframe\">\n",
       "  <thead>\n",
       "    <tr style=\"text-align: right;\">\n",
       "      <th></th>\n",
       "      <th>Date</th>\n",
       "      <th>Open</th>\n",
       "      <th>High</th>\n",
       "      <th>Low</th>\n",
       "      <th>Close</th>\n",
       "      <th>Volume</th>\n",
       "    </tr>\n",
       "  </thead>\n",
       "  <tbody>\n",
       "    <tr>\n",
       "      <th>0</th>\n",
       "      <td>2018-04-12</td>\n",
       "      <td>173.41</td>\n",
       "      <td>175.0000</td>\n",
       "      <td>173.04</td>\n",
       "      <td>174.14</td>\n",
       "      <td>22889285</td>\n",
       "    </tr>\n",
       "    <tr>\n",
       "      <th>1</th>\n",
       "      <td>2018-04-11</td>\n",
       "      <td>172.23</td>\n",
       "      <td>173.9232</td>\n",
       "      <td>171.70</td>\n",
       "      <td>172.44</td>\n",
       "      <td>22431640</td>\n",
       "    </tr>\n",
       "    <tr>\n",
       "      <th>2</th>\n",
       "      <td>2018-04-10</td>\n",
       "      <td>173.00</td>\n",
       "      <td>174.0000</td>\n",
       "      <td>171.53</td>\n",
       "      <td>173.25</td>\n",
       "      <td>28614241</td>\n",
       "    </tr>\n",
       "  </tbody>\n",
       "</table>\n",
       "</div>"
      ],
      "text/plain": [
       "         Date    Open      High     Low   Close    Volume\n",
       "0  2018-04-12  173.41  175.0000  173.04  174.14  22889285\n",
       "1  2018-04-11  172.23  173.9232  171.70  172.44  22431640\n",
       "2  2018-04-10  173.00  174.0000  171.53  173.25  28614241"
      ]
     },
     "execution_count": 16,
     "metadata": {},
     "output_type": "execute_result"
    }
   ],
   "source": [
    "df_APPLE_.head(3)"
   ]
  },
  {
   "cell_type": "code",
   "execution_count": 17,
   "metadata": {},
   "outputs": [
    {
     "data": {
      "text/plain": [
       "Index(['Date', 'Open', 'High', 'Low', 'Close', 'Volume'], dtype='object')"
      ]
     },
     "execution_count": 17,
     "metadata": {},
     "output_type": "execute_result"
    }
   ],
   "source": [
    "df_APPLE_.columns"
   ]
  },
  {
   "cell_type": "code",
   "execution_count": 18,
   "metadata": {},
   "outputs": [],
   "source": [
    "df_train = df_APPLE_[['Date','Open']]"
   ]
  },
  {
   "cell_type": "code",
   "execution_count": 19,
   "metadata": {},
   "outputs": [
    {
     "data": {
      "text/html": [
       "<div>\n",
       "<style scoped>\n",
       "    .dataframe tbody tr th:only-of-type {\n",
       "        vertical-align: middle;\n",
       "    }\n",
       "\n",
       "    .dataframe tbody tr th {\n",
       "        vertical-align: top;\n",
       "    }\n",
       "\n",
       "    .dataframe thead th {\n",
       "        text-align: right;\n",
       "    }\n",
       "</style>\n",
       "<table border=\"1\" class=\"dataframe\">\n",
       "  <thead>\n",
       "    <tr style=\"text-align: right;\">\n",
       "      <th></th>\n",
       "      <th>Date</th>\n",
       "      <th>Open</th>\n",
       "    </tr>\n",
       "  </thead>\n",
       "  <tbody>\n",
       "    <tr>\n",
       "      <th>0</th>\n",
       "      <td>2018-04-12</td>\n",
       "      <td>173.41</td>\n",
       "    </tr>\n",
       "    <tr>\n",
       "      <th>1</th>\n",
       "      <td>2018-04-11</td>\n",
       "      <td>172.23</td>\n",
       "    </tr>\n",
       "    <tr>\n",
       "      <th>2</th>\n",
       "      <td>2018-04-10</td>\n",
       "      <td>173.00</td>\n",
       "    </tr>\n",
       "  </tbody>\n",
       "</table>\n",
       "</div>"
      ],
      "text/plain": [
       "         Date    Open\n",
       "0  2018-04-12  173.41\n",
       "1  2018-04-11  172.23\n",
       "2  2018-04-10  173.00"
      ]
     },
     "execution_count": 19,
     "metadata": {},
     "output_type": "execute_result"
    }
   ],
   "source": [
    "df_train.head(3)"
   ]
  },
  {
   "cell_type": "code",
   "execution_count": 20,
   "metadata": {},
   "outputs": [
    {
     "name": "stdout",
     "output_type": "stream",
     "text": [
      "    Close     Open\n",
      "0  174.14  173.410\n",
      "1  172.44  172.230\n",
      "2  173.25  173.000\n",
      "3  170.05  169.880\n",
      "4  168.38  170.970\n",
      "5  172.80  172.580\n",
      "6  171.61  164.880\n",
      "7  168.39  167.640\n",
      "8  166.68  166.640\n",
      "9  167.78  167.805\n"
     ]
    },
    {
     "data": {
      "text/plain": [
       "<matplotlib.axes._subplots.AxesSubplot at 0x11efb6080>"
      ]
     },
     "execution_count": 20,
     "metadata": {},
     "output_type": "execute_result"
    },
    {
     "data": {
      "image/png": "[encoded data removed]",
      "text/plain": [
       "<matplotlib.figure.Figure at 0x11efedd68>"
      ]
     },
     "metadata": {},
     "output_type": "display_data"
    }
   ],
   "source": [
    "print (df_APPLE_[['Close','Open']].head(10))\n",
    "df_APPLE_[['Close','Open']].plot()"
   ]
  },
  {
   "cell_type": "code",
   "execution_count": null,
   "metadata": {},
   "outputs": [],
   "source": []
  },
  {
   "cell_type": "code",
   "execution_count": null,
   "metadata": {},
   "outputs": [],
   "source": []
  },
  {
   "cell_type": "code",
   "execution_count": null,
   "metadata": {},
   "outputs": [],
   "source": []
  },
  {
   "cell_type": "code",
   "execution_count": 21,
   "metadata": {},
   "outputs": [
    {
     "name": "stdout",
     "output_type": "stream",
     "text": [
      "_________________________________________________________________\n",
      "Layer (type)                 Output Shape              Param #   \n",
      "=================================================================\n",
      "dense_4 (Dense)              (None, 500)               1000      \n",
      "_________________________________________________________________\n",
      "activation_4 (Activation)    (None, 500)               0         \n",
      "_________________________________________________________________\n",
      "dropout_2 (Dropout)          (None, 500)               0         \n",
      "_________________________________________________________________\n",
      "dense_5 (Dense)              (None, 250)               125250    \n",
      "_________________________________________________________________\n",
      "activation_5 (Activation)    (None, 250)               0         \n",
      "_________________________________________________________________\n",
      "dense_6 (Dense)              (None, 1)                 251       \n",
      "_________________________________________________________________\n",
      "activation_6 (Activation)    (None, 1)                 0         \n",
      "_________________________________________________________________\n",
      "dense_7 (Dense)              (None, 250)               500       \n",
      "_________________________________________________________________\n",
      "activation_7 (Activation)    (None, 250)               0         \n",
      "=================================================================\n",
      "Total params: 127,001\n",
      "Trainable params: 127,001\n",
      "Non-trainable params: 0\n",
      "_________________________________________________________________\n",
      "None\n",
      "        actual    predict\n",
      "0     173.4100  173.57132\n",
      "1     172.2300  173.60074\n",
      "2     173.0000  173.53593\n",
      "3     169.8800  173.54161\n",
      "4     170.9700  173.58583\n",
      "5     172.5800  173.63170\n",
      "6     164.8800  173.57814\n",
      "7     167.6400  173.53436\n",
      "8     166.6400  173.70053\n",
      "9     167.8050  173.63307\n",
      "10    167.2500  173.55618\n",
      "11    173.6800  173.69699\n",
      "12    168.0700  173.68877\n",
      "13    168.3900  173.54820\n",
      "14    170.0000  173.54297\n",
      "15    175.0400  173.56395\n",
      "16    175.2400  173.54794\n",
      "17    177.3200  173.54137\n",
      "18    178.6500  173.63374\n",
      "19    178.5000  173.56706\n",
      "20    180.3200  173.64840\n",
      "21    182.5900  173.63052\n",
      "22    180.2900  173.53862\n",
      "23    177.9600  173.54280\n",
      "24    175.4800  173.53180\n",
      "25    174.9400  173.53781\n",
      "26    177.9100  173.68185\n",
      "27    175.2100  173.54709\n",
      "28    172.8000  173.60905\n",
      "29    178.5400  173.61519\n",
      "...        ...        ...\n",
      "4036    1.7193  175.38416\n",
      "4037    1.7471  175.39200\n",
      "4038    1.6907  175.37892\n",
      "4039    1.6764  175.49994\n",
      "4040    1.6757  175.42424\n",
      "4041    1.6679  175.37056\n",
      "4042    1.7207  175.38574\n",
      "4043    1.7336  175.37330\n",
      "4044    1.7800  175.53673\n",
      "4045    1.7750  175.52621\n",
      "4046    1.7671  175.47950\n",
      "4047    1.7821  175.37654\n",
      "4048    1.7450  175.53612\n",
      "4049    1.7493  175.49979\n",
      "4050    1.7657  175.45999\n",
      "4051    1.7900  175.38634\n",
      "4052    1.7614  175.42770\n",
      "4053    1.7414  175.39879\n",
      "4054    1.7193  175.39890\n",
      "4055    1.6807  175.41281\n",
      "4056    1.7350  175.41805\n",
      "4057    1.6750  175.41180\n",
      "4058    1.5500  175.40594\n",
      "4059    1.5686  175.48790\n",
      "4060    1.6907  175.37444\n",
      "4061    1.7007  175.48384\n",
      "4062    1.6243  175.44804\n",
      "4063    1.5357  175.52680\n",
      "4064    1.6521  175.40958\n",
      "4065    1.6157  175.53275\n",
      "\n",
      "[4066 rows x 2 columns]\n"
     ]
    }
   ],
   "source": [
    "df_train = df_APPLE_[['Date','Open']]\n",
    "#RNN_model_1(df_FB_,'Open')\n",
    "df_output = RNN_model_2(df_train,'Open')"
   ]
  },
  {
   "cell_type": "code",
   "execution_count": 22,
   "metadata": {},
   "outputs": [
    {
     "data": {
      "text/plain": [
       "<matplotlib.axes._subplots.AxesSubplot at 0x11f3c1898>"
      ]
     },
     "execution_count": 22,
     "metadata": {},
     "output_type": "execute_result"
    },
    {
     "data": {
      "image/png": "[encoded data removed]",
      "text/plain": [
       "<matplotlib.figure.Figure at 0x11f2c7ef0>"
      ]
     },
     "metadata": {},
     "output_type": "display_data"
    }
   ],
   "source": [
    "df_output.head(100).plot()"
   ]
  },
  {
   "cell_type": "code",
   "execution_count": 23,
   "metadata": {},
   "outputs": [
    {
     "data": {
      "text/plain": [
       "<matplotlib.axes._subplots.AxesSubplot at 0x11f320630>"
      ]
     },
     "execution_count": 23,
     "metadata": {},
     "output_type": "execute_result"
    },
    {
     "data": {
      "image/png": "[encoded data removed]",
      "text/plain": [
       "<matplotlib.figure.Figure at 0x11f32e5f8>"
      ]
     },
     "metadata": {},
     "output_type": "display_data"
    }
   ],
   "source": [
    "df_output.plot()"
   ]
  }
 ],
 "metadata": {
  "kernelspec": {
   "display_name": "Environment (conda_ds_dash)",
   "language": "python",
   "name": "conda_ds_dash"
  },
  "language_info": {
   "codemirror_mode": {
    "name": "ipython",
    "version": 3
   },
   "file_extension": ".py",
   "mimetype": "text/x-python",
   "name": "python",
   "nbconvert_exporter": "python",
   "pygments_lexer": "ipython3",
   "version": "3.5.4"
  }
 },
 "nbformat": 4,
 "nbformat_minor": 2
}
