{
 "cells": [
  {
   "cell_type": "code",
   "execution_count": 1,
   "metadata": {},
   "outputs": [
    {
     "name": "stdout",
     "output_type": "stream",
     "text": [
      "Populating the interactive namespace from numpy and matplotlib\n"
     ]
    },
    {
     "name": "stderr",
     "output_type": "stream",
     "text": [
      "Using TensorFlow backend.\n",
      "/Users/yennanliu/anaconda3/envs/ds_dash/lib/python3.5/importlib/_bootstrap.py:222: RuntimeWarning: compiletime version 3.6 of module 'tensorflow.python.framework.fast_tensor_util' does not match runtime version 3.5\n",
      "  return f(*args, **kwds)\n"
     ]
    }
   ],
   "source": [
    "# ops \n",
    "import pandas as pd \n",
    "import numpy as np\n",
    "import math\n",
    "import matplotlib.pyplot as plt\n",
    "%pylab inline\n",
    "\n",
    "# ML\n",
    "from sklearn.preprocessing import MinMaxScaler\n",
    "from sklearn.metrics import mean_squared_error\n",
    "from keras.models import Sequential\n",
    "from keras.layers.core import Dense, Dropout, Activation, Flatten\n",
    "from keras.layers.recurrent import LSTM, GRU\n",
    "from keras.layers import Convolution1D, MaxPooling1D\n",
    "from keras.callbacks import Callback\n"
   ]
  },
  {
   "cell_type": "code",
   "execution_count": 2,
   "metadata": {},
   "outputs": [],
   "source": [
    "\n",
    "\n",
    "\n",
    "\n",
    "# data prepare \n",
    "def get_data(fine_name):\n",
    "\tprint (fine_name)\n",
    "\tdf = pd.read_csv('data/{}.csv'.format(fine_name))\n",
    "\tprint (df.head())\n",
    "\treturn df  \n",
    "\n",
    "def col_fix(df):\n",
    "    df = df.drop('Unnamed: 0', axis=1) \n",
    "    print (df.columns)\n",
    "    df.columns = ['Date', 'Open', 'High', 'Low', 'Close', 'Volume']\n",
    "    #df['Date'] = pd.to_datetime(df['Date'] )\n",
    "    print (df.head())\n",
    "    return df \n",
    "\n",
    "\n",
    "\n",
    "def get_train_data(df):\n",
    "\t#df_expo = df[df.drop_off_addr == 'expo']\n",
    "\t#dataset = df_expo.groupby('timestamp_live_vec_table')\\\n",
    "\t#\t\t\t\t .median()[['lag_idle_day']]\\\n",
    "\t#\t\t\t\t .values\n",
    "\t#dataset = df[['Volume','High','Open']].values.astype('float32')\n",
    "\tdataset = df[['Open']].values.astype('float32')\n",
    "\t#print (shape(dataset))\n",
    "\tprint (dataset) \n",
    "\treturn dataset\n",
    "\n",
    "\n",
    "\n",
    "# convert an array of values into a dataset matrix\n",
    "def create_dataset(dataset, look_back=1):\n",
    "\tdataX, dataY = [], []\n",
    "\tfor i in range(len(dataset)-look_back-1):\n",
    "\t\ta = dataset[i:(i+look_back), 0]\n",
    "\t\tdataX.append(a)\n",
    "\t\tdataY.append(dataset[i + look_back, 0])\n",
    "\treturn np.array(dataX), np.array(dataY)\n",
    "\n",
    "\n",
    "\n",
    "\n",
    "#------------------------\n",
    "# DL \n",
    "\n",
    "\n",
    "def one_input_LSTM_model_1(dataset):\n",
    "\t# normalize the dataset\n",
    "\tscaler = MinMaxScaler(feature_range=(0, 1))\n",
    "\tdataset = scaler.fit_transform(dataset)\n",
    "\t# split into train and test sets\n",
    "\ttrain_size = int(len(dataset) * 0.67)\n",
    "\ttest_size = len(dataset) - train_size\n",
    "\ttrain, test = dataset[0:train_size,:], dataset[train_size:len(dataset),:]\n",
    "\t# reshape into X=t and Y=t+1\n",
    "\tlook_back = 1\n",
    "\ttrainX, trainY = create_dataset(train, look_back)\n",
    "\ttestX, testY = create_dataset(test, look_back)\n",
    "\t# reshape input to be [samples, time steps, features]\n",
    "\ttrainX = np.reshape(trainX, (trainX.shape[0], 1, trainX.shape[1]))\n",
    "\ttestX = np.reshape(testX, (testX.shape[0], 1, testX.shape[1]))\n",
    "\t# create and fit the LSTM network\n",
    "\tmodel = Sequential()\n",
    "\tmodel.add(LSTM(4, input_shape=(1, look_back)))\n",
    "\tmodel.add(Dense(1))\n",
    "\tmodel.compile(loss='mean_squared_error', optimizer='adam')\n",
    "\tmodel.fit(trainX, trainY, epochs=20, batch_size=1, verbose=2)\n",
    "\t# make predictions\n",
    "\ttrainPredict = model.predict(trainX)\n",
    "\ttestPredict = model.predict(testX)\n",
    "\t# invert predictions\n",
    "\ttrainPredict = scaler.inverse_transform(trainPredict)\n",
    "\ttrainY = scaler.inverse_transform([trainY])\n",
    "\ttestPredict = scaler.inverse_transform(testPredict)\n",
    "\ttestY = scaler.inverse_transform([testY])\n",
    "\t# calculate root mean squared error\n",
    "\ttrainScore = math.sqrt(mean_squared_error(trainY[0], trainPredict[:,0]))\n",
    "\tprint('Train Score: %.2f RMSE' % (trainScore))\n",
    "\ttestScore = math.sqrt(mean_squared_error(testY[0], testPredict[:,0]))\n",
    "\tprint('Test Score: %.2f RMSE' % (testScore))\n",
    "\t# shift train predictions for plotting\n",
    "\ttrainPredictPlot = np.empty_like(dataset)\n",
    "\ttrainPredictPlot[:, :] = np.nan\n",
    "\ttrainPredictPlot[look_back:len(trainPredict)+look_back, :] = trainPredict\n",
    "\t# shift test predictions for plotting\n",
    "\ttestPredictPlot = np.empty_like(dataset)\n",
    "\ttestPredictPlot[:, :] = np.nan\n",
    "\ttestPredictPlot[len(trainPredict)+(look_back*2)+1:len(dataset)-1, :] = testPredict\n",
    "\tprint (model.summary())\n",
    "\treturn  dataset,trainPredict,testPredict,trainPredictPlot,testPredictPlot\n",
    "\n",
    "\n",
    "\n",
    "\n",
    "\n",
    "\n",
    "def one_input_LSTM_model_2(dataset):\n",
    "\t# normalize the dataset\n",
    "\tscaler = MinMaxScaler(feature_range=(0, 1))\n",
    "\tdataset = scaler.fit_transform(dataset)\n",
    "\t# split into train and test sets\n",
    "\ttrain_size = int(len(dataset) * 0.67)\n",
    "\ttest_size = len(dataset) - train_size\n",
    "\ttrain, test = dataset[0:train_size,:], dataset[train_size:len(dataset),:]\n",
    "\t# reshape into X=t and Y=t+1\n",
    "\tlook_back = 1\n",
    "\ttrainX, trainY = create_dataset(train, look_back)\n",
    "\ttestX, testY = create_dataset(test, look_back)\n",
    "\t# reshape input to be [samples, time steps, features]\n",
    "\ttrainX = np.reshape(trainX, (trainX.shape[0], 1, trainX.shape[1]))\n",
    "\ttestX = np.reshape(testX, (testX.shape[0], 1, testX.shape[1]))\n",
    "\t# create and fit the LSTM network\n",
    "\tmodel = Sequential()\n",
    "\tmodel.add(LSTM(4, return_sequences=True,input_shape=(1, look_back)))\n",
    "\tmodel.add(LSTM(4, input_shape=(1, look_back)))\n",
    "\tmodel.add(Dense(1))\n",
    "\tmodel.compile(loss='mean_squared_error', optimizer='adam')\n",
    "\tmodel.fit(trainX, trainY, epochs=20, batch_size=1, verbose=2)\n",
    "\t# make predictions\n",
    "\ttrainPredict = model.predict(trainX)\n",
    "\ttestPredict = model.predict(testX)\n",
    "\t# invert predictions\n",
    "\ttrainPredict = scaler.inverse_transform(trainPredict)\n",
    "\ttrainY = scaler.inverse_transform([trainY])\n",
    "\ttestPredict = scaler.inverse_transform(testPredict)\n",
    "\ttestY = scaler.inverse_transform([testY])\n",
    "\t# calculate root mean squared error\n",
    "\ttrainScore = math.sqrt(mean_squared_error(trainY[0], trainPredict[:,0]))\n",
    "\tprint('Train Score: %.2f RMSE' % (trainScore))\n",
    "\ttestScore = math.sqrt(mean_squared_error(testY[0], testPredict[:,0]))\n",
    "\tprint('Test Score: %.2f RMSE' % (testScore))\n",
    "\t# shift train predictions for plotting\n",
    "\ttrainPredictPlot = np.empty_like(dataset)\n",
    "\ttrainPredictPlot[:, :] = np.nan\n",
    "\ttrainPredictPlot[look_back:len(trainPredict)+look_back, :] = trainPredict\n",
    "\t# shift test predictions for plotting\n",
    "\ttestPredictPlot = np.empty_like(dataset)\n",
    "\ttestPredictPlot[:, :] = np.nan\n",
    "\ttestPredictPlot[len(trainPredict)+(look_back*2)+1:len(dataset)-1, :] = testPredict\n",
    "\tprint (model.summary())\n",
    "\treturn  dataset,trainPredict,testPredict,trainPredictPlot,testPredictPlot\n",
    "\n",
    "#---------------------------------------\n"
   ]
  },
  {
   "cell_type": "code",
   "execution_count": null,
   "metadata": {},
   "outputs": [],
   "source": []
  },
  {
   "cell_type": "code",
   "execution_count": 3,
   "metadata": {
    "scrolled": true
   },
   "outputs": [
    {
     "name": "stdout",
     "output_type": "stream",
     "text": [
      "APPLE\n",
      "   Unnamed: 0        Date    Open      High      Low   Close    Volume\n",
      "0           0  2018-04-12  173.41  175.0000  173.040  174.14  22889285\n",
      "1           1  2018-04-11  172.23  173.9232  171.700  172.44  22431640\n",
      "2           2  2018-04-10  173.00  174.0000  171.530  173.25  28614241\n",
      "3           3  2018-04-09  169.88  173.0900  169.845  170.05  29017718\n",
      "4           4  2018-04-06  170.97  172.4800  168.200  168.38  35005290\n",
      "Index(['Date', ' Open', ' High', ' Low', ' Close', ' Volume'], dtype='object')\n",
      "         Date    Open      High      Low   Close    Volume\n",
      "0  2018-04-12  173.41  175.0000  173.040  174.14  22889285\n",
      "1  2018-04-11  172.23  173.9232  171.700  172.44  22431640\n",
      "2  2018-04-10  173.00  174.0000  171.530  173.25  28614241\n",
      "3  2018-04-09  169.88  173.0900  169.845  170.05  29017718\n",
      "4  2018-04-06  170.97  172.4800  168.200  168.38  35005290\n",
      "[[173.41  ]\n",
      " [172.23  ]\n",
      " [173.    ]\n",
      " ...\n",
      " [  1.5357]\n",
      " [  1.6521]\n",
      " [  1.6157]]\n",
      "Epoch 1/20\n",
      " - 11s - loss: 0.0083\n",
      "Epoch 2/20\n",
      " - 10s - loss: 9.4664e-05\n",
      "Epoch 3/20\n",
      " - 9s - loss: 8.5287e-05\n",
      "Epoch 4/20\n",
      " - 9s - loss: 8.4883e-05\n",
      "Epoch 5/20\n",
      " - 8s - loss: 8.7695e-05\n",
      "Epoch 6/20\n",
      " - 8s - loss: 8.7405e-05\n",
      "Epoch 7/20\n",
      " - 8s - loss: 8.2911e-05\n",
      "Epoch 8/20\n",
      " - 8s - loss: 8.2943e-05\n",
      "Epoch 9/20\n",
      " - 8s - loss: 8.5298e-05\n",
      "Epoch 10/20\n",
      " - 13s - loss: 8.7561e-05\n",
      "Epoch 11/20\n",
      " - 11s - loss: 8.2637e-05\n",
      "Epoch 12/20\n",
      " - 12s - loss: 8.6638e-05\n",
      "Epoch 13/20\n",
      " - 8s - loss: 8.3572e-05\n",
      "Epoch 14/20\n",
      " - 8s - loss: 8.5923e-05\n",
      "Epoch 15/20\n",
      " - 8s - loss: 8.4854e-05\n",
      "Epoch 16/20\n",
      " - 8s - loss: 8.5834e-05\n",
      "Epoch 17/20\n",
      " - 8s - loss: 8.8693e-05\n",
      "Epoch 18/20\n",
      " - 8s - loss: 8.3398e-05\n",
      "Epoch 19/20\n",
      " - 8s - loss: 8.2727e-05\n",
      "Epoch 20/20\n",
      " - 9s - loss: 8.2110e-05\n",
      "Train Score: 1.55 RMSE\n",
      "Test Score: 2.25 RMSE\n",
      "_________________________________________________________________\n",
      "Layer (type)                 Output Shape              Param #   \n",
      "=================================================================\n",
      "lstm_1 (LSTM)                (None, 4)                 96        \n",
      "_________________________________________________________________\n",
      "dense_1 (Dense)              (None, 1)                 5         \n",
      "=================================================================\n",
      "Total params: 101\n",
      "Trainable params: 101\n",
      "Non-trainable params: 0\n",
      "_________________________________________________________________\n",
      "None\n"
     ]
    }
   ],
   "source": [
    "# LSTM model 1\n",
    "\n",
    "df_APPLE = get_data('APPLE')\n",
    "df_APPLE_ = col_fix(df_APPLE)\n",
    "dataset = get_train_data(df_APPLE_)\n",
    "dataset,trainPredict,testPredict,trainPredictPlot,testPredictPlot = one_input_LSTM_model_1(dataset)\n",
    "\n"
   ]
  },
  {
   "cell_type": "code",
   "execution_count": 4,
   "metadata": {},
   "outputs": [],
   "source": [
    "#dataset\n",
    "# dataset,trainPredict,testPredict,trainPredictPlot,testPredictPlot\n",
    "\n"
   ]
  },
  {
   "cell_type": "code",
   "execution_count": 4,
   "metadata": {},
   "outputs": [
    {
     "data": {
      "text/plain": [
       "[<matplotlib.lines.Line2D at 0x110c112e8>]"
      ]
     },
     "execution_count": 4,
     "metadata": {},
     "output_type": "execute_result"
    },
    {
     "data": {
      "image/png": "[encoded data removed]",
      "text/plain": [
       "<matplotlib.figure.Figure at 0x10f9b7438>"
      ]
     },
     "metadata": {},
     "output_type": "display_data"
    }
   ],
   "source": [
    "\n",
    "plt.plot(trainPredictPlot)\n",
    "#plt.plot(trainPredict)\n",
    "plt.plot(testPredictPlot)\n",
    "#plt.plot(testPredict)\n",
    "#plt.xlim(900,1400)\n",
    "plt.plot( df_APPLE_[['Open']])"
   ]
  },
  {
   "cell_type": "code",
   "execution_count": 6,
   "metadata": {},
   "outputs": [
    {
     "data": {
      "text/plain": [
       "[array([[      nan],\n",
       "        [166.13255],\n",
       "        [164.54985],\n",
       "        ...,\n",
       "        [      nan],\n",
       "        [      nan],\n",
       "        [      nan]], dtype=float32), array([[      nan],\n",
       "        [      nan],\n",
       "        [      nan],\n",
       "        ...,\n",
       "        [34.950504],\n",
       "        [35.979916],\n",
       "        [      nan]], dtype=float32)]"
      ]
     },
     "execution_count": 6,
     "metadata": {},
     "output_type": "execute_result"
    }
   ],
   "source": [
    "[trainPredictPlot,testPredictPlot]"
   ]
  },
  {
   "cell_type": "code",
   "execution_count": 7,
   "metadata": {},
   "outputs": [
    {
     "data": {
      "text/plain": [
       "[<matplotlib.lines.Line2D at 0x1153222e8>]"
      ]
     },
     "execution_count": 7,
     "metadata": {},
     "output_type": "execute_result"
    },
    {
     "data": {
      "image/png": "[encoded data removed]",
      "text/plain": [
       "<matplotlib.figure.Figure at 0x1152c9c88>"
      ]
     },
     "metadata": {},
     "output_type": "display_data"
    }
   ],
   "source": [
    "plt.plot(trainPredictPlot)"
   ]
  },
  {
   "cell_type": "code",
   "execution_count": null,
   "metadata": {},
   "outputs": [],
   "source": []
  },
  {
   "cell_type": "code",
   "execution_count": 8,
   "metadata": {
    "scrolled": true
   },
   "outputs": [
    {
     "name": "stdout",
     "output_type": "stream",
     "text": [
      "FB\n",
      "   Unnamed: 0        Date    Open    High     Low   Close    Volume\n",
      "0           0  2018-04-12  166.98  167.45  163.10  163.87  38262956\n",
      "1           1  2018-04-11  165.36  168.65  163.25  166.32  56144633\n",
      "2           2  2018-04-10  157.93  165.98  157.01  165.04  58947041\n",
      "3           3  2018-04-09  157.82  160.53  156.04  157.93  34915227\n",
      "4           4  2018-04-06  157.73  161.42  156.81  157.20  41644812\n",
      "Index(['Date', ' Open', ' High', ' Low', ' Close', ' Volume'], dtype='object')\n",
      "         Date    Open    High     Low   Close    Volume\n",
      "0  2018-04-12  166.98  167.45  163.10  163.87  38262956\n",
      "1  2018-04-11  165.36  168.65  163.25  166.32  56144633\n",
      "2  2018-04-10  157.93  165.98  157.01  165.04  58947041\n",
      "3  2018-04-09  157.82  160.53  156.04  157.93  34915227\n",
      "4  2018-04-06  157.73  161.42  156.81  157.20  41644812\n",
      "[[166.98]\n",
      " [165.36]\n",
      " [157.93]\n",
      " ...\n",
      " [ 32.61]\n",
      " [ 36.53]\n",
      " [ 42.05]]\n",
      "Epoch 1/20\n",
      " - 7s - loss: 0.0578\n",
      "Epoch 2/20\n",
      " - 4s - loss: 0.0029\n",
      "Epoch 3/20\n",
      " - 4s - loss: 2.1994e-04\n",
      "Epoch 4/20\n",
      " - 4s - loss: 2.0090e-04\n",
      "Epoch 5/20\n",
      " - 5s - loss: 1.8695e-04\n",
      "Epoch 6/20\n",
      " - 5s - loss: 1.8121e-04\n",
      "Epoch 7/20\n",
      " - 5s - loss: 1.7427e-04\n",
      "Epoch 8/20\n",
      " - 5s - loss: 1.7353e-04\n",
      "Epoch 9/20\n",
      " - 4s - loss: 1.7336e-04\n",
      "Epoch 10/20\n",
      " - 4s - loss: 1.7869e-04\n",
      "Epoch 11/20\n",
      " - 4s - loss: 1.7114e-04\n",
      "Epoch 12/20\n",
      " - 4s - loss: 1.7330e-04\n",
      "Epoch 13/20\n",
      " - 4s - loss: 1.6747e-04\n",
      "Epoch 14/20\n",
      " - 4s - loss: 1.8233e-04\n",
      "Epoch 15/20\n",
      " - 4s - loss: 1.6513e-04\n",
      "Epoch 16/20\n",
      " - 4s - loss: 1.7258e-04\n",
      "Epoch 17/20\n",
      " - 4s - loss: 1.7754e-04\n",
      "Epoch 18/20\n",
      " - 4s - loss: 1.7418e-04\n",
      "Epoch 19/20\n",
      " - 4s - loss: 1.7059e-04\n",
      "Epoch 20/20\n",
      " - 4s - loss: 1.8511e-04\n",
      "Train Score: 2.19 RMSE\n",
      "Test Score: 10.23 RMSE\n",
      "_________________________________________________________________\n",
      "Layer (type)                 Output Shape              Param #   \n",
      "=================================================================\n",
      "lstm_2 (LSTM)                (None, 1, 4)              96        \n",
      "_________________________________________________________________\n",
      "lstm_3 (LSTM)                (None, 4)                 144       \n",
      "_________________________________________________________________\n",
      "dense_2 (Dense)              (None, 1)                 5         \n",
      "=================================================================\n",
      "Total params: 245\n",
      "Trainable params: 245\n",
      "Non-trainable params: 0\n",
      "_________________________________________________________________\n",
      "None\n"
     ]
    },
    {
     "data": {
      "text/plain": [
       "[<matplotlib.lines.Line2D at 0x116c1b978>]"
      ]
     },
     "execution_count": 8,
     "metadata": {},
     "output_type": "execute_result"
    },
    {
     "data": {
      "image/png": "[encoded data removed]",
      "text/plain": [
       "<matplotlib.figure.Figure at 0x115322940>"
      ]
     },
     "metadata": {},
     "output_type": "display_data"
    }
   ],
   "source": [
    "# LSTM model 2\n",
    "\n",
    "df_FB = get_data('')\n",
    "df_FB_ = col_fix(df_FB)\n",
    "dataset = get_train_data(df_FB_)\n",
    "dataset,trainPredict,testPredict,trainPredictPlot,testPredictPlot = one_input_LSTM_model_2(dataset)\n",
    "\n",
    "\n",
    "\n",
    "\n",
    "\n",
    "plt.plot(trainPredictPlot)\n",
    "#plt.plot(trainPredict)\n",
    "plt.plot(testPredictPlot)\n",
    "#plt.plot(testPredict)\n",
    "#plt.xlim(900,1400)\n",
    "plt.plot( df_FB_[['Open']])"
   ]
  },
  {
   "cell_type": "code",
   "execution_count": null,
   "metadata": {},
   "outputs": [],
   "source": []
  },
  {
   "cell_type": "code",
   "execution_count": 9,
   "metadata": {},
   "outputs": [
    {
     "name": "stdout",
     "output_type": "stream",
     "text": [
      "0\n",
      "1\n",
      "2\n",
      "3\n",
      "4\n"
     ]
    }
   ],
   "source": [
    "for epoch in range(5):\n",
    "    print (epoch)\n"
   ]
  },
  {
   "cell_type": "code",
   "execution_count": null,
   "metadata": {},
   "outputs": [],
   "source": []
  },
  {
   "cell_type": "code",
   "execution_count": 10,
   "metadata": {},
   "outputs": [
    {
     "data": {
      "text/plain": [
       "array([[0.8559439 ],\n",
       "       [0.84663147],\n",
       "       [0.80392045],\n",
       "       ...,\n",
       "       [0.08352496],\n",
       "       [0.10605887],\n",
       "       [0.1377903 ]], dtype=float32)"
      ]
     },
     "execution_count": 10,
     "metadata": {},
     "output_type": "execute_result"
    }
   ],
   "source": [
    "dataset"
   ]
  },
  {
   "cell_type": "code",
   "execution_count": null,
   "metadata": {},
   "outputs": [],
   "source": []
  },
  {
   "cell_type": "code",
   "execution_count": null,
   "metadata": {},
   "outputs": [],
   "source": []
  },
  {
   "cell_type": "code",
   "execution_count": null,
   "metadata": {},
   "outputs": [],
   "source": []
  },
  {
   "cell_type": "code",
   "execution_count": 12,
   "metadata": {},
   "outputs": [],
   "source": [
    "#one_input_LSTM(dataset)"
   ]
  },
  {
   "cell_type": "code",
   "execution_count": null,
   "metadata": {},
   "outputs": [],
   "source": []
  },
  {
   "cell_type": "code",
   "execution_count": null,
   "metadata": {
    "scrolled": true
   },
   "outputs": [
    {
     "name": "stdout",
     "output_type": "stream",
     "text": [
      "Epoch 1/20\n",
      " - 8s - loss: 0.0745\n",
      "Epoch 2/20\n",
      " - 4s - loss: 0.0095\n",
      "Epoch 3/20\n",
      " - 5s - loss: 0.0015\n",
      "Epoch 4/20\n",
      " - 4s - loss: 2.5625e-04\n",
      "Epoch 5/20\n",
      " - 4s - loss: 2.3283e-04\n",
      "Epoch 6/20\n",
      " - 4s - loss: 2.2029e-04\n",
      "Epoch 7/20\n",
      " - 4s - loss: 2.1845e-04\n",
      "Epoch 8/20\n",
      " - 4s - loss: 2.0312e-04\n",
      "Epoch 9/20\n",
      " - 4s - loss: 1.9782e-04\n",
      "Epoch 10/20\n",
      " - 4s - loss: 1.8360e-04\n",
      "Epoch 11/20\n",
      " - 4s - loss: 1.7804e-04\n",
      "Epoch 12/20\n",
      " - 4s - loss: 1.7282e-04\n",
      "Epoch 13/20\n"
     ]
    }
   ],
   "source": [
    "# normalize the dataset\n",
    "scaler = MinMaxScaler(feature_range=(0, 1))\n",
    "dataset = scaler.fit_transform(dataset)\n",
    "# split into train and test sets\n",
    "train_size = int(len(dataset) * 0.67)\n",
    "test_size = len(dataset) - train_size\n",
    "train, test = dataset[0:train_size,:], dataset[train_size:len(dataset),:]\n",
    "# reshape into X=t and Y=t+1\n",
    "look_back = 1\n",
    "trainX, trainY = create_dataset(train, look_back)\n",
    "testX, testY = create_dataset(test, look_back)\n",
    "# reshape input to be [samples, time steps, features]\n",
    "trainX = np.reshape(trainX, (trainX.shape[0], 1, trainX.shape[1]))\n",
    "testX = np.reshape(testX, (testX.shape[0], 1, testX.shape[1]))\n",
    "# create and fit the LSTM network\n",
    "model = Sequential()\n",
    "model.add(LSTM(4, input_shape=(1, look_back)))\n",
    "model.add(Dense(1))\n",
    "model.compile(loss='mean_squared_error', optimizer='adam')\n",
    "model.fit(trainX, trainY, epochs=20, batch_size=1, verbose=2)\n",
    "# make predictions\n",
    "trainPredict = model.predict(trainX)\n",
    "testPredict = model.predict(testX)"
   ]
  },
  {
   "cell_type": "code",
   "execution_count": null,
   "metadata": {},
   "outputs": [],
   "source": [
    "trainX"
   ]
  },
  {
   "cell_type": "code",
   "execution_count": null,
   "metadata": {},
   "outputs": [],
   "source": [
    "trainY"
   ]
  },
  {
   "cell_type": "code",
   "execution_count": null,
   "metadata": {},
   "outputs": [],
   "source": [
    "train"
   ]
  },
  {
   "cell_type": "code",
   "execution_count": null,
   "metadata": {},
   "outputs": [],
   "source": [
    "test"
   ]
  },
  {
   "cell_type": "code",
   "execution_count": null,
   "metadata": {},
   "outputs": [],
   "source": []
  },
  {
   "cell_type": "code",
   "execution_count": null,
   "metadata": {},
   "outputs": [],
   "source": []
  },
  {
   "cell_type": "code",
   "execution_count": null,
   "metadata": {},
   "outputs": [],
   "source": []
  },
  {
   "cell_type": "code",
   "execution_count": null,
   "metadata": {},
   "outputs": [],
   "source": []
  },
  {
   "cell_type": "code",
   "execution_count": 8,
   "metadata": {},
   "outputs": [],
   "source": [
    "\n",
    "def create_dataset(dataset, look_back=1):\n",
    "\tdataX, dataY = [], []\n",
    "\tfor i in range(len(dataset)-look_back-1):\n",
    "\t\ta = dataset[i:(i+look_back), 0]\n",
    "\t\tdataX.append(a)\n",
    "\t\tdataY.append(dataset[i + look_back, 0])\n",
    "\treturn np.array(dataX), np.array(dataY)\n",
    "\n",
    "\n",
    "def one_input_LSTM(dataset):\n",
    "\t# normalize the dataset\n",
    "\tscaler = MinMaxScaler(feature_range=(0, 1))\n",
    "\tdataset = scaler.fit_transform(dataset)\n",
    "\t# split into train and test sets\n",
    "\ttrain_size = int(len(dataset) * 0.67)\n",
    "\ttest_size = len(dataset) - train_size\n",
    "\ttrain, test = dataset[0:train_size,:], dataset[train_size:len(dataset),:]\n",
    "\t# reshape into X=t and Y=t+1\n",
    "\tlook_back = 1\n",
    "\ttrainX, trainY = create_dataset(train, look_back)\n",
    "\ttestX, testY = create_dataset(test, look_back)\n",
    "\t# reshape input to be [samples, time steps, features]\n",
    "\ttrainX = np.reshape(trainX, (trainX.shape[0], 1, trainX.shape[1]))\n",
    "\ttestX = np.reshape(testX, (testX.shape[0], 1, testX.shape[1]))\n",
    "\t# create and fit the LSTM network\n",
    "\tmodel = Sequential()\n",
    "\tmodel.add(LSTM(4, input_shape=(1, look_back)))\n",
    "\tmodel.add(Dense(1))\n",
    "\tmodel.compile(loss='mean_squared_error', optimizer='adam')\n",
    "\tmodel.fit(trainX, trainY, epochs=20, batch_size=1, verbose=2)\n",
    "\t# make predictions\n",
    "\ttrainPredict = model.predict(trainX)\n",
    "\ttestPredict = model.predict(testX)\n",
    "\t# invert predictions\n",
    "\ttrainPredict = scaler.inverse_transform(trainPredict)\n",
    "\ttrainY = scaler.inverse_transform([trainY])\n",
    "\ttestPredict = scaler.inverse_transform(testPredict)\n",
    "\ttestY = scaler.inverse_transform([testY])\n",
    "\t# calculate root mean squared error\n",
    "\ttrainScore = math.sqrt(mean_squared_error(trainY[0], trainPredict[:,0]))\n",
    "\tprint('Train Score: %.2f RMSE' % (trainScore))\n",
    "\ttestScore = math.sqrt(mean_squared_error(testY[0], testPredict[:,0]))\n",
    "\tprint('Test Score: %.2f RMSE' % (testScore))\n",
    "\t# shift train predictions for plotting\n",
    "\ttrainPredictPlot = np.empty_like(dataset)\n",
    "\ttrainPredictPlot[:, :] = np.nan\n",
    "\ttrainPredictPlot[look_back:len(trainPredict)+look_back, :] = trainPredict\n",
    "\t# shift test predictions for plotting\n",
    "\ttestPredictPlot = np.empty_like(dataset)\n",
    "\ttestPredictPlot[:, :] = np.nan\n",
    "\ttestPredictPlot[len(trainPredict)+(look_back*2)+1:len(dataset)-1, :] = testPredict\n"
   ]
  },
  {
   "cell_type": "code",
   "execution_count": 5,
   "metadata": {},
   "outputs": [
    {
     "data": {
      "text/plain": [
       "array([[173.41  , 173.41  ],\n",
       "       [172.23  , 172.23  ],\n",
       "       [173.    , 173.    ],\n",
       "       ...,\n",
       "       [  1.5357,   1.5357],\n",
       "       [  1.6521,   1.6521],\n",
       "       [  1.6157,   1.6157]], dtype=float32)"
      ]
     },
     "execution_count": 5,
     "metadata": {},
     "output_type": "execute_result"
    }
   ],
   "source": [
    "df_APPLE_[['Open','Open']].values.astype('float32')"
   ]
  },
  {
   "cell_type": "code",
   "execution_count": 9,
   "metadata": {},
   "outputs": [
    {
     "data": {
      "text/plain": [
       "<matplotlib.axes._subplots.AxesSubplot at 0x110c117b8>"
      ]
     },
     "execution_count": 9,
     "metadata": {},
     "output_type": "execute_result"
    },
    {
     "data": {
      "image/png": "[encoded data removed]",
      "text/plain": [
       "<matplotlib.figure.Figure at 0x10f86f438>"
      ]
     },
     "metadata": {},
     "output_type": "display_data"
    }
   ],
   "source": [
    "df_APPLE_[['Open','Open']].plot()"
   ]
  },
  {
   "cell_type": "code",
   "execution_count": 6,
   "metadata": {},
   "outputs": [
    {
     "data": {
      "text/html": [
       "<div>\n",
       "<style scoped>\n",
       "    .dataframe tbody tr th:only-of-type {\n",
       "        vertical-align: middle;\n",
       "    }\n",
       "\n",
       "    .dataframe tbody tr th {\n",
       "        vertical-align: top;\n",
       "    }\n",
       "\n",
       "    .dataframe thead th {\n",
       "        text-align: right;\n",
       "    }\n",
       "</style>\n",
       "<table border=\"1\" class=\"dataframe\">\n",
       "  <thead>\n",
       "    <tr style=\"text-align: right;\">\n",
       "      <th></th>\n",
       "      <th>Date</th>\n",
       "      <th>Open</th>\n",
       "      <th>High</th>\n",
       "      <th>Low</th>\n",
       "      <th>Close</th>\n",
       "      <th>Volume</th>\n",
       "    </tr>\n",
       "  </thead>\n",
       "  <tbody>\n",
       "    <tr>\n",
       "      <th>0</th>\n",
       "      <td>2018-04-12</td>\n",
       "      <td>173.41</td>\n",
       "      <td>175.0000</td>\n",
       "      <td>173.04</td>\n",
       "      <td>174.14</td>\n",
       "      <td>22889285</td>\n",
       "    </tr>\n",
       "    <tr>\n",
       "      <th>1</th>\n",
       "      <td>2018-04-11</td>\n",
       "      <td>172.23</td>\n",
       "      <td>173.9232</td>\n",
       "      <td>171.70</td>\n",
       "      <td>172.44</td>\n",
       "      <td>22431640</td>\n",
       "    </tr>\n",
       "    <tr>\n",
       "      <th>2</th>\n",
       "      <td>2018-04-10</td>\n",
       "      <td>173.00</td>\n",
       "      <td>174.0000</td>\n",
       "      <td>171.53</td>\n",
       "      <td>173.25</td>\n",
       "      <td>28614241</td>\n",
       "    </tr>\n",
       "  </tbody>\n",
       "</table>\n",
       "</div>"
      ],
      "text/plain": [
       "         Date    Open      High     Low   Close    Volume\n",
       "0  2018-04-12  173.41  175.0000  173.04  174.14  22889285\n",
       "1  2018-04-11  172.23  173.9232  171.70  172.44  22431640\n",
       "2  2018-04-10  173.00  174.0000  171.53  173.25  28614241"
      ]
     },
     "execution_count": 6,
     "metadata": {},
     "output_type": "execute_result"
    }
   ],
   "source": [
    "df_APPLE_.head(3)"
   ]
  },
  {
   "cell_type": "code",
   "execution_count": 7,
   "metadata": {},
   "outputs": [
    {
     "data": {
      "text/plain": [
       "array([173.41  , 172.23  , 173.    , ...,   1.5357,   1.6521,   1.6157],\n",
       "      dtype=float32)"
      ]
     },
     "execution_count": 7,
     "metadata": {},
     "output_type": "execute_result"
    }
   ],
   "source": [
    "df_APPLE_['Open'].values.astype('float32')"
   ]
  },
  {
   "cell_type": "code",
   "execution_count": null,
   "metadata": {},
   "outputs": [],
   "source": []
  },
  {
   "cell_type": "code",
   "execution_count": null,
   "metadata": {},
   "outputs": [],
   "source": []
  }
 ],
 "metadata": {
  "kernelspec": {
   "display_name": "Environment (conda_ds_dash)",
   "language": "python",
   "name": "conda_ds_dash"
  },
  "language_info": {
   "codemirror_mode": {
    "name": "ipython",
    "version": 3
   },
   "file_extension": ".py",
   "mimetype": "text/x-python",
   "name": "python",
   "nbconvert_exporter": "python",
   "pygments_lexer": "ipython3",
   "version": "3.5.4"
  }
 },
 "nbformat": 4,
 "nbformat_minor": 2
}
